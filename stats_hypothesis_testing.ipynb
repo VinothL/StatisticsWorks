{
 "cells": [
  {
   "cell_type": "code",
   "execution_count": 24,
   "metadata": {},
   "outputs": [],
   "source": [
    "#!pip3 install plotnine"
   ]
  },
  {
   "cell_type": "code",
   "execution_count": null,
   "metadata": {},
   "outputs": [],
   "source": [
    "\"\"\"\n",
    "The notebooks contains code for testing different tests based sample data\n",
    " 0. Basics - Central limit theorem\n",
    " 1. t-test - one-sample, two-sample, paired\n",
    " 2. Proportion test \n",
    " 3. Chi-Square (Both Goodness of fit and Independence )\n",
    " 4. Anova \n",
    "\n",
    "\"\"\""
   ]
  },
  {
   "cell_type": "code",
   "execution_count": null,
   "metadata": {},
   "outputs": [],
   "source": [
    "\"\"\"\n",
    "Basics Statistics:\n",
    "1. Data types:\n",
    "    1. Categorical - Ordinal (Order Matters) and Nominal (Order doesn't matter)\n",
    "    2. Numerical - Continuous and Discrete\n",
    "\n",
    "2. Hypothesis testing terminologies:\n",
    "    1. p-value - likelihood of pattern under null hypothesis\n",
    "\n",
    "\"\"\""
   ]
  },
  {
   "cell_type": "code",
   "execution_count": null,
   "metadata": {},
   "outputs": [],
   "source": [
    "# student t-test\n",
    "# 1. one sample t - test => comparing the value with the population parameter\n",
    "# 2. two sample t - test => comparing if there is differnece between the samples\n",
    "# 3. paired t-test => Measuring the effect of changes for the same sample group, before/after"
   ]
  },
  {
   "cell_type": "code",
   "execution_count": 25,
   "metadata": {},
   "outputs": [],
   "source": [
    "import pandas as pd\n",
    "import numpy as np\n",
    "\n",
    "from scipy import stats\n",
    "\n",
    "import plotnine as p9"
   ]
  },
  {
   "cell_type": "code",
   "execution_count": 56,
   "metadata": {},
   "outputs": [
    {
     "name": "stdout",
     "output_type": "stream",
     "text": [
      "Sample df shape(1000, 2)\n"
     ]
    },
    {
     "data": {
      "text/html": [
       "<div>\n",
       "<style scoped>\n",
       "    .dataframe tbody tr th:only-of-type {\n",
       "        vertical-align: middle;\n",
       "    }\n",
       "\n",
       "    .dataframe tbody tr th {\n",
       "        vertical-align: top;\n",
       "    }\n",
       "\n",
       "    .dataframe thead th {\n",
       "        text-align: right;\n",
       "    }\n",
       "</style>\n",
       "<table border=\"1\" class=\"dataframe\">\n",
       "  <thead>\n",
       "    <tr style=\"text-align: right;\">\n",
       "      <th></th>\n",
       "      <th>Sample_A</th>\n",
       "      <th>Sample_B</th>\n",
       "    </tr>\n",
       "  </thead>\n",
       "  <tbody>\n",
       "    <tr>\n",
       "      <th>0</th>\n",
       "      <td>95</td>\n",
       "      <td>29</td>\n",
       "    </tr>\n",
       "    <tr>\n",
       "      <th>1</th>\n",
       "      <td>49</td>\n",
       "      <td>57</td>\n",
       "    </tr>\n",
       "    <tr>\n",
       "      <th>2</th>\n",
       "      <td>60</td>\n",
       "      <td>94</td>\n",
       "    </tr>\n",
       "    <tr>\n",
       "      <th>3</th>\n",
       "      <td>81</td>\n",
       "      <td>84</td>\n",
       "    </tr>\n",
       "    <tr>\n",
       "      <th>4</th>\n",
       "      <td>8</td>\n",
       "      <td>0</td>\n",
       "    </tr>\n",
       "  </tbody>\n",
       "</table>\n",
       "</div>"
      ],
      "text/plain": [
       "   Sample_A  Sample_B\n",
       "0        95        29\n",
       "1        49        57\n",
       "2        60        94\n",
       "3        81        84\n",
       "4         8         0"
      ]
     },
     "execution_count": 56,
     "metadata": {},
     "output_type": "execute_result"
    }
   ],
   "source": [
    "samplesDf = pd.DataFrame({\n",
    "    'Sample_A' : np.random.randint(0,100,size = 1000),\n",
    "    'Sample_B' : np.random.randint(0,100,size = 1000)\n",
    "})\n",
    "print('Sample df shape' + str(samplesDf.shape))\n",
    "samplesDf.head()"
   ]
  },
  {
   "cell_type": "code",
   "execution_count": 57,
   "metadata": {},
   "outputs": [
    {
     "name": "stdout",
     "output_type": "stream",
     "text": [
      "   observed_no    Sample  Value\n",
      "0            1  Sample_A     95\n",
      "1            2  Sample_A     49\n",
      "2            3  Sample_A     60\n",
      "3            4  Sample_A     81\n",
      "4            5  Sample_A      8\n"
     ]
    }
   ],
   "source": [
    "# Transform the dataframe from wide to long format\n",
    "df_long = samplesDf.reset_index().melt(id_vars=['index'], value_vars=['Sample_A', 'Sample_B'],\n",
    "                                var_name='Sample', value_name='Value')\n",
    "\n",
    "# Adjusting the output to add an observed_no column for each sample\n",
    "df_long['observed_no'] = df_long.groupby('Sample').cumcount() + 1\n",
    "df_long = df_long[['observed_no', 'Sample', 'Value']]\n",
    "samplesDf = df_long \n",
    "# Display the transformed dataframe\n",
    "print(df_long.head())"
   ]
  },
  {
   "cell_type": "code",
   "execution_count": 58,
   "metadata": {},
   "outputs": [],
   "source": [
    "#Generic testing parameters\n",
    "ALPHA = 0.05\n",
    "\n",
    "\n"
   ]
  },
  {
   "cell_type": "code",
   "execution_count": 59,
   "metadata": {},
   "outputs": [],
   "source": [
    "#Theory\n",
    "#one-sample t-test "
   ]
  },
  {
   "cell_type": "code",
   "execution_count": 60,
   "metadata": {},
   "outputs": [
    {
     "name": "stdout",
     "output_type": "stream",
     "text": [
      "Sample mean != Population Mean\n"
     ]
    }
   ],
   "source": [
    "#Code\n",
    "#one-sample t-test\n",
    "Sample_A = samplesDf.loc[samplesDf.Sample == 'Sample_A','Value']\n",
    "t_result = stats.ttest_1samp(Sample_A,70)\n",
    "if t_result[1] < ALPHA:\n",
    "    print('Sample mean != Population Mean')\n",
    "else: \n",
    "    print('Not enough evidence to reject the null hypothesis')\n",
    "    print(t_result)\n"
   ]
  },
  {
   "cell_type": "code",
   "execution_count": null,
   "metadata": {},
   "outputs": [],
   "source": []
  },
  {
   "cell_type": "code",
   "execution_count": 61,
   "metadata": {},
   "outputs": [],
   "source": [
    "#Theory\n",
    "#two-sample t-test independent"
   ]
  },
  {
   "cell_type": "code",
   "execution_count": 62,
   "metadata": {},
   "outputs": [
    {
     "name": "stdout",
     "output_type": "stream",
     "text": [
      "Not enough evidence to reject the null hypothesis\n",
      "Ttest_indResult(statistic=-1.3935700293294093, pvalue=0.1636024731247799)\n"
     ]
    },
    {
     "data": {
      "image/png": "[encoded data removed]",
      "text/plain": [
       "<Figure size 400x200 with 1 Axes>"
      ]
     },
     "metadata": {
      "image/png": {
       "height": 200,
       "width": 400
      }
     },
     "output_type": "display_data"
    },
    {
     "name": "stdout",
     "output_type": "stream",
     "text": [
      "\n"
     ]
    }
   ],
   "source": [
    "#Code\n",
    "#two-sample t-test independent\n",
    "Sample_A = samplesDf.loc[samplesDf.Sample == 'Sample_A','Value']\n",
    "Sample_B = samplesDf.loc[samplesDf.Sample == 'Sample_B','Value']\n",
    "t_result = stats.ttest_ind(Sample_A,Sample_B)\n",
    "if t_result[1] < ALPHA:\n",
    "    print('Sample mean != Population Mean')\n",
    "else:\n",
    "    print('Not enough evidence to reject the null hypothesis')\n",
    "    print(t_result)\n",
    "\n",
    "print(p9.ggplot(samplesDf) \n",
    "      + p9.aes(x='Value',fill='Sample')\n",
    "       + p9.geom_density(alpha = ALPHA) \n",
    "       + p9.theme(figure_size=(4,2))\n",
    "       )"
   ]
  },
  {
   "cell_type": "code",
   "execution_count": 63,
   "metadata": {},
   "outputs": [],
   "source": [
    "#Theory\n",
    "# Paired t-test / Before vs After comparison\n"
   ]
  },
  {
   "cell_type": "code",
   "execution_count": 64,
   "metadata": {},
   "outputs": [
    {
     "name": "stdout",
     "output_type": "stream",
     "text": [
      "There is no statistical evidence to prove the difference in performance\n",
      "TtestResult(statistic=-1.3786581336433776, pvalue=0.1683088112545976, df=999)\n"
     ]
    },
    {
     "data": {
      "image/png": "[encoded data removed]",
      "text/plain": [
       "<Figure size 400x200 with 1 Axes>"
      ]
     },
     "metadata": {
      "image/png": {
       "height": 200,
       "width": 400
      }
     },
     "output_type": "display_data"
    },
    {
     "name": "stdout",
     "output_type": "stream",
     "text": [
      "\n"
     ]
    }
   ],
   "source": [
    "#Code\n",
    "# Paired t-test / Before vs After comparison\n",
    "Sample_A = samplesDf.loc[samplesDf.Sample == 'Sample_A','Value']\n",
    "Sample_B = samplesDf.loc[samplesDf.Sample == 'Sample_B','Value']\n",
    "t_result = stats.ttest_rel(Sample_A,Sample_B)\n",
    "if t_result[1] < ALPHA:\n",
    "    print('There is statistical evidence for the difference')\n",
    "else:\n",
    "    print('There is no statistical evidence to prove the difference in performance')\n",
    "    print(t_result)\n",
    "\n",
    "print(p9.ggplot(samplesDf) \n",
    "      + p9.aes(x='Value',fill='Sample')\n",
    "       + p9.geom_density(alpha = ALPHA) \n",
    "       + p9.theme(figure_size=(4,2))\n",
    "       )"
   ]
  },
  {
   "cell_type": "code",
   "execution_count": null,
   "metadata": {},
   "outputs": [],
   "source": []
  },
  {
   "cell_type": "code",
   "execution_count": 65,
   "metadata": {},
   "outputs": [],
   "source": [
    "# Tests for Categorical value - (Head/Tail, Success/Failure)\n",
    "# 1. ChiSquare Test - Goodness of fitness \n",
    "# 2. Fisher Extract - Checking if both the samples are from same population/distribution"
   ]
  },
  {
   "cell_type": "code",
   "execution_count": 66,
   "metadata": {},
   "outputs": [],
   "source": [
    "#Theory"
   ]
  },
  {
   "cell_type": "code",
   "execution_count": 67,
   "metadata": {},
   "outputs": [
    {
     "name": "stdout",
     "output_type": "stream",
     "text": [
      "The results from ChiSquare: \n",
      "Power_divergenceResult(statistic=3.136, pvalue=0.07658140903567008)\n",
      "No Statiscally provable difference\n"
     ]
    }
   ],
   "source": [
    "#Code\n",
    "# 1. ChiSquare Test\n",
    "# Usecases: Checking if the coin is fair/not, Checking if the observed male/female ratio\n",
    "\n",
    "#Generating Coin flip data\n",
    "df = pd.DataFrame({\n",
    "    'FlipNo': list(np.arange(1000)),\n",
    "    'Result': ['Head' if np.random.rand(1) > 0.5 else 'Tail' for i in np.arange(1000)]\n",
    "})\n",
    "df.head()\n",
    "\n",
    "chi = stats.chisquare(df['Result'].value_counts())\n",
    "print('The results from ChiSquare: \\n' + str(chi))\n",
    "if chi[1] < ALPHA:\n",
    "    print(' The sample data is from different distribution')\n",
    "else:\n",
    "    print(\"No Statiscally provable difference\")"
   ]
  },
  {
   "cell_type": "code",
   "execution_count": 68,
   "metadata": {},
   "outputs": [],
   "source": [
    "#Theory\n",
    "#2. Fisher Extact Test"
   ]
  },
  {
   "cell_type": "code",
   "execution_count": 69,
   "metadata": {},
   "outputs": [
    {
     "name": "stdout",
     "output_type": "stream",
     "text": [
      "SignificanceResult(statistic=0.9096984340592121, pvalue=0.4863298413857806)\n",
      "There is no statistical evidence to prove the distribution\n"
     ]
    }
   ],
   "source": [
    "#Code\n",
    "# 2. Fisher Extact Test\n",
    "# To check if both samples are from same distribution or not\n",
    "#Generating Coin flip data\n",
    "df = pd.DataFrame({\n",
    "    'FlipNo': list(np.arange(1000)),\n",
    "    'Coin1': ['Head' if np.random.rand(1) > 0.5 else 'Tail' for i in np.arange(1000)],\n",
    "    'Coin2': ['Head' if np.random.rand(1) > 0.5 else 'Tail' for i in np.arange(1000)]\n",
    "})\n",
    "df.head()\n",
    "\n",
    "fisher = stats.fisher_exact(pd.crosstab(df['Coin1'],df['Coin2']))\n",
    "print(fisher)\n",
    "\n",
    "if fisher[1] < ALPHA:\n",
    "    print('There is statistical evidence to prove different distribution/source')\n",
    "else:\n",
    "    print('There is no statistical evidence to prove the distribution')"
   ]
  },
  {
   "cell_type": "code",
   "execution_count": null,
   "metadata": {},
   "outputs": [],
   "source": [
    "#Theory\n",
    "#ANOVA\n",
    "\"\"\"\n",
    "- Analysis of variance\n",
    "- Generalize the t-test to broader set\n",
    "- Simulatenours comparison of different variable/level\n",
    "\n",
    "Hypothesis Testing:\n",
    "    Null Hypothesis : There is no significant difference among the groups\n",
    "    Alternate Hypothesis : There is a significant difference among the groups\n",
    "\n",
    "    F Value  = Variance between the groups / Variance within the groups\n",
    "    Larger the F value, Higher the variance between the groups\n",
    "\n",
    "Assumptions:\n",
    "1. Homogenity of variance among the groups - Appx equal variance among the groups\n",
    "2. Normality of residual terms (predicted - actual)\n",
    "3. Samples are picked independent fo each other\n",
    "\n",
    "\n",
    "one-way Anova\n",
    "- single factor with 2-3 levels\n",
    "- More than 1 variants (Control, Treatment 1, Treatment 2)\n",
    "\n",
    "Two-way Anova\n",
    "- two factor with 2-3 levels\n",
    "- Effect of these factors on variants\n",
    "\"\"\"\n"
   ]
  },
  {
   "cell_type": "code",
   "execution_count": 74,
   "metadata": {},
   "outputs": [
    {
     "data": {
      "text/html": [
       "<div>\n",
       "<style scoped>\n",
       "    .dataframe tbody tr th:only-of-type {\n",
       "        vertical-align: middle;\n",
       "    }\n",
       "\n",
       "    .dataframe tbody tr th {\n",
       "        vertical-align: top;\n",
       "    }\n",
       "\n",
       "    .dataframe thead th {\n",
       "        text-align: right;\n",
       "    }\n",
       "</style>\n",
       "<table border=\"1\" class=\"dataframe\">\n",
       "  <thead>\n",
       "    <tr style=\"text-align: right;\">\n",
       "      <th></th>\n",
       "      <th>Sno</th>\n",
       "      <th>Date</th>\n",
       "      <th>Time</th>\n",
       "      <th>State/UnionTerritory</th>\n",
       "      <th>ConfirmedIndianNational</th>\n",
       "      <th>ConfirmedForeignNational</th>\n",
       "      <th>Cured</th>\n",
       "      <th>Deaths</th>\n",
       "      <th>Confirmed</th>\n",
       "    </tr>\n",
       "  </thead>\n",
       "  <tbody>\n",
       "    <tr>\n",
       "      <th>0</th>\n",
       "      <td>1</td>\n",
       "      <td>2020-01-30</td>\n",
       "      <td>6:00 PM</td>\n",
       "      <td>Kerala</td>\n",
       "      <td>1</td>\n",
       "      <td>0</td>\n",
       "      <td>0</td>\n",
       "      <td>0</td>\n",
       "      <td>1</td>\n",
       "    </tr>\n",
       "    <tr>\n",
       "      <th>1</th>\n",
       "      <td>2</td>\n",
       "      <td>2020-01-31</td>\n",
       "      <td>6:00 PM</td>\n",
       "      <td>Kerala</td>\n",
       "      <td>1</td>\n",
       "      <td>0</td>\n",
       "      <td>0</td>\n",
       "      <td>0</td>\n",
       "      <td>1</td>\n",
       "    </tr>\n",
       "    <tr>\n",
       "      <th>2</th>\n",
       "      <td>3</td>\n",
       "      <td>2020-02-01</td>\n",
       "      <td>6:00 PM</td>\n",
       "      <td>Kerala</td>\n",
       "      <td>2</td>\n",
       "      <td>0</td>\n",
       "      <td>0</td>\n",
       "      <td>0</td>\n",
       "      <td>2</td>\n",
       "    </tr>\n",
       "    <tr>\n",
       "      <th>3</th>\n",
       "      <td>4</td>\n",
       "      <td>2020-02-02</td>\n",
       "      <td>6:00 PM</td>\n",
       "      <td>Kerala</td>\n",
       "      <td>3</td>\n",
       "      <td>0</td>\n",
       "      <td>0</td>\n",
       "      <td>0</td>\n",
       "      <td>3</td>\n",
       "    </tr>\n",
       "    <tr>\n",
       "      <th>4</th>\n",
       "      <td>5</td>\n",
       "      <td>2020-02-03</td>\n",
       "      <td>6:00 PM</td>\n",
       "      <td>Kerala</td>\n",
       "      <td>3</td>\n",
       "      <td>0</td>\n",
       "      <td>0</td>\n",
       "      <td>0</td>\n",
       "      <td>3</td>\n",
       "    </tr>\n",
       "  </tbody>\n",
       "</table>\n",
       "</div>"
      ],
      "text/plain": [
       "   Sno       Date     Time State/UnionTerritory ConfirmedIndianNational   \n",
       "0    1 2020-01-30  6:00 PM               Kerala                       1  \\\n",
       "1    2 2020-01-31  6:00 PM               Kerala                       1   \n",
       "2    3 2020-02-01  6:00 PM               Kerala                       2   \n",
       "3    4 2020-02-02  6:00 PM               Kerala                       3   \n",
       "4    5 2020-02-03  6:00 PM               Kerala                       3   \n",
       "\n",
       "  ConfirmedForeignNational  Cured  Deaths  Confirmed  \n",
       "0                        0      0       0          1  \n",
       "1                        0      0       0          1  \n",
       "2                        0      0       0          2  \n",
       "3                        0      0       0          3  \n",
       "4                        0      0       0          3  "
      ]
     },
     "execution_count": 74,
     "metadata": {},
     "output_type": "execute_result"
    }
   ],
   "source": [
    "df = pd.read_csv('data/covid_19_india.csv', parse_dates=['Date'])\n",
    "df.head()"
   ]
  },
  {
   "cell_type": "code",
   "execution_count": 90,
   "metadata": {},
   "outputs": [],
   "source": [
    "df.columns = ['Sno', 'Date', 'Time', 'State_UT','ConfirmedIndianNational', 'ConfirmedForeignNational', 'Cured','Deaths', 'Confirmed']"
   ]
  },
  {
   "cell_type": "code",
   "execution_count": 123,
   "metadata": {},
   "outputs": [],
   "source": [
    "import statsmodels as sm\n",
    "import matplotlib.pyplot as plt"
   ]
  },
  {
   "cell_type": "code",
   "execution_count": 82,
   "metadata": {},
   "outputs": [
    {
     "name": "stdout",
     "output_type": "stream",
     "text": [
      "F_onewayResult(statistic=13.72476508051812, pvalue=1.2296342817943142e-06)\n",
      "There is statistical evidence for difference in the variance between the groups\n"
     ]
    }
   ],
   "source": [
    "#Running one-way anova using stats package\n",
    "tn_confirmed = df[df.State_UT == 'Tamil Nadu'].Confirmed\n",
    "ker_confirmed = df[df.State_UT == 'Kerala'].Confirmed\n",
    "up_confirmed = df[df.State_UT == 'Uttar Pradesh'].Confirmed\n",
    "aov_table = stats.f_oneway(tn_confirmed,ker_confirmed,up_confirmed)\n",
    "print(aov_table)\n",
    "if aov_table[1] < ALPHA:\n",
    "    print('There is statistical evidence for difference in the variance between the groups')\n",
    "else:\n",
    "    print('No statistical evidence to prove the difference')\n"
   ]
  },
  {
   "cell_type": "code",
   "execution_count": 105,
   "metadata": {},
   "outputs": [
    {
     "name": "stdout",
     "output_type": "stream",
     "text": [
      "Index(['Sno', 'Date', 'Time', 'State_UT', 'ConfirmedIndianNational',\n",
      "       'ConfirmedForeignNational', 'Cured', 'Deaths', 'Confirmed'],\n",
      "      dtype='object')\n"
     ]
    }
   ],
   "source": [
    "df_sub = df[df.State_UT.isin(['Tamil Nadu','Kerala','Uttar Pradesh'])]\n",
    "df_sub.Confirmed.fillna(method='ffill')\n",
    "print(df_sub.columns)"
   ]
  },
  {
   "cell_type": "code",
   "execution_count": 104,
   "metadata": {},
   "outputs": [
    {
     "data": {
      "text/html": [
       "<table class=\"simpletable\">\n",
       "<caption>OLS Regression Results</caption>\n",
       "<tr>\n",
       "  <th>Dep. Variable:</th>        <td>Confirmed</td>    <th>  R-squared:         </th> <td>   0.017</td> \n",
       "</tr>\n",
       "<tr>\n",
       "  <th>Model:</th>                   <td>OLS</td>       <th>  Adj. R-squared:    </th> <td>   0.016</td> \n",
       "</tr>\n",
       "<tr>\n",
       "  <th>Method:</th>             <td>Least Squares</td>  <th>  F-statistic:       </th> <td>   13.72</td> \n",
       "</tr>\n",
       "<tr>\n",
       "  <th>Date:</th>             <td>Wed, 21 Feb 2024</td> <th>  Prob (F-statistic):</th> <td>1.23e-06</td> \n",
       "</tr>\n",
       "<tr>\n",
       "  <th>Time:</th>                 <td>16:25:29</td>     <th>  Log-Likelihood:    </th> <td> -24191.</td> \n",
       "</tr>\n",
       "<tr>\n",
       "  <th>No. Observations:</th>      <td>  1609</td>      <th>  AIC:               </th> <td>4.839e+04</td>\n",
       "</tr>\n",
       "<tr>\n",
       "  <th>Df Residuals:</th>          <td>  1606</td>      <th>  BIC:               </th> <td>4.840e+04</td>\n",
       "</tr>\n",
       "<tr>\n",
       "  <th>Df Model:</th>              <td>     2</td>      <th>                     </th>     <td> </td>    \n",
       "</tr>\n",
       "<tr>\n",
       "  <th>Covariance Type:</th>      <td>nonrobust</td>    <th>                     </th>     <td> </td>    \n",
       "</tr>\n",
       "</table>\n",
       "<table class=\"simpletable\">\n",
       "<tr>\n",
       "                <td></td>                  <th>coef</th>     <th>std err</th>      <th>t</th>      <th>P>|t|</th>  <th>[0.025</th>    <th>0.975]</th>  \n",
       "</tr>\n",
       "<tr>\n",
       "  <th>Intercept</th>                    <td> 8.195e+05</td> <td> 3.46e+04</td> <td>   23.653</td> <td> 0.000</td> <td> 7.52e+05</td> <td> 8.87e+05</td>\n",
       "</tr>\n",
       "<tr>\n",
       "  <th>C(State_UT)[T.Tamil Nadu]</th>    <td> 6392.3471</td> <td> 4.99e+04</td> <td>    0.128</td> <td> 0.898</td> <td>-9.14e+04</td> <td> 1.04e+05</td>\n",
       "</tr>\n",
       "<tr>\n",
       "  <th>C(State_UT)[T.Uttar Pradesh]</th> <td>-2.251e+05</td> <td> 4.98e+04</td> <td>   -4.522</td> <td> 0.000</td> <td>-3.23e+05</td> <td>-1.27e+05</td>\n",
       "</tr>\n",
       "</table>\n",
       "<table class=\"simpletable\">\n",
       "<tr>\n",
       "  <th>Omnibus:</th>       <td>296.165</td> <th>  Durbin-Watson:     </th> <td>   0.189</td> \n",
       "</tr>\n",
       "<tr>\n",
       "  <th>Prob(Omnibus):</th> <td> 0.000</td>  <th>  Jarque-Bera (JB):  </th> <td> 477.702</td> \n",
       "</tr>\n",
       "<tr>\n",
       "  <th>Skew:</th>          <td> 1.253</td>  <th>  Prob(JB):          </th> <td>1.86e-104</td>\n",
       "</tr>\n",
       "<tr>\n",
       "  <th>Kurtosis:</th>      <td> 3.917</td>  <th>  Cond. No.          </th> <td>    3.66</td> \n",
       "</tr>\n",
       "</table><br/><br/>Notes:<br/>[1] Standard Errors assume that the covariance matrix of the errors is correctly specified."
      ],
      "text/latex": [
       "\\begin{center}\n",
       "\\begin{tabular}{lclc}\n",
       "\\toprule\n",
       "\\textbf{Dep. Variable:}                &    Confirmed     & \\textbf{  R-squared:         } &     0.017   \\\\\n",
       "\\textbf{Model:}                        &       OLS        & \\textbf{  Adj. R-squared:    } &     0.016   \\\\\n",
       "\\textbf{Method:}                       &  Least Squares   & \\textbf{  F-statistic:       } &     13.72   \\\\\n",
       "\\textbf{Date:}                         & Wed, 21 Feb 2024 & \\textbf{  Prob (F-statistic):} &  1.23e-06   \\\\\n",
       "\\textbf{Time:}                         &     16:25:29     & \\textbf{  Log-Likelihood:    } &   -24191.   \\\\\n",
       "\\textbf{No. Observations:}             &        1609      & \\textbf{  AIC:               } & 4.839e+04   \\\\\n",
       "\\textbf{Df Residuals:}                 &        1606      & \\textbf{  BIC:               } & 4.840e+04   \\\\\n",
       "\\textbf{Df Model:}                     &           2      & \\textbf{                     } &             \\\\\n",
       "\\textbf{Covariance Type:}              &    nonrobust     & \\textbf{                     } &             \\\\\n",
       "\\bottomrule\n",
       "\\end{tabular}\n",
       "\\begin{tabular}{lcccccc}\n",
       "                                       & \\textbf{coef} & \\textbf{std err} & \\textbf{t} & \\textbf{P$> |$t$|$} & \\textbf{[0.025} & \\textbf{0.975]}  \\\\\n",
       "\\midrule\n",
       "\\textbf{Intercept}                     &    8.195e+05  &     3.46e+04     &    23.653  &         0.000        &     7.52e+05    &     8.87e+05     \\\\\n",
       "\\textbf{C(State\\_UT)[T.Tamil Nadu]}    &    6392.3471  &     4.99e+04     &     0.128  &         0.898        &    -9.14e+04    &     1.04e+05     \\\\\n",
       "\\textbf{C(State\\_UT)[T.Uttar Pradesh]} &   -2.251e+05  &     4.98e+04     &    -4.522  &         0.000        &    -3.23e+05    &    -1.27e+05     \\\\\n",
       "\\bottomrule\n",
       "\\end{tabular}\n",
       "\\begin{tabular}{lclc}\n",
       "\\textbf{Omnibus:}       & 296.165 & \\textbf{  Durbin-Watson:     } &     0.189  \\\\\n",
       "\\textbf{Prob(Omnibus):} &   0.000 & \\textbf{  Jarque-Bera (JB):  } &   477.702  \\\\\n",
       "\\textbf{Skew:}          &   1.253 & \\textbf{  Prob(JB):          } & 1.86e-104  \\\\\n",
       "\\textbf{Kurtosis:}      &   3.917 & \\textbf{  Cond. No.          } &      3.66  \\\\\n",
       "\\bottomrule\n",
       "\\end{tabular}\n",
       "%\\caption{OLS Regression Results}\n",
       "\\end{center}\n",
       "\n",
       "Notes: \\newline\n",
       " [1] Standard Errors assume that the covariance matrix of the errors is correctly specified."
      ],
      "text/plain": [
       "<class 'statsmodels.iolib.summary.Summary'>\n",
       "\"\"\"\n",
       "                            OLS Regression Results                            \n",
       "==============================================================================\n",
       "Dep. Variable:              Confirmed   R-squared:                       0.017\n",
       "Model:                            OLS   Adj. R-squared:                  0.016\n",
       "Method:                 Least Squares   F-statistic:                     13.72\n",
       "Date:                Wed, 21 Feb 2024   Prob (F-statistic):           1.23e-06\n",
       "Time:                        16:25:29   Log-Likelihood:                -24191.\n",
       "No. Observations:                1609   AIC:                         4.839e+04\n",
       "Df Residuals:                    1606   BIC:                         4.840e+04\n",
       "Df Model:                           2                                         \n",
       "Covariance Type:            nonrobust                                         \n",
       "================================================================================================\n",
       "                                   coef    std err          t      P>|t|      [0.025      0.975]\n",
       "------------------------------------------------------------------------------------------------\n",
       "Intercept                     8.195e+05   3.46e+04     23.653      0.000    7.52e+05    8.87e+05\n",
       "C(State_UT)[T.Tamil Nadu]     6392.3471   4.99e+04      0.128      0.898   -9.14e+04    1.04e+05\n",
       "C(State_UT)[T.Uttar Pradesh] -2.251e+05   4.98e+04     -4.522      0.000   -3.23e+05   -1.27e+05\n",
       "==============================================================================\n",
       "Omnibus:                      296.165   Durbin-Watson:                   0.189\n",
       "Prob(Omnibus):                  0.000   Jarque-Bera (JB):              477.702\n",
       "Skew:                           1.253   Prob(JB):                    1.86e-104\n",
       "Kurtosis:                       3.917   Cond. No.                         3.66\n",
       "==============================================================================\n",
       "\n",
       "Notes:\n",
       "[1] Standard Errors assume that the covariance matrix of the errors is correctly specified.\n",
       "\"\"\""
      ]
     },
     "execution_count": 104,
     "metadata": {},
     "output_type": "execute_result"
    }
   ],
   "source": [
    "#Running one-way anova using statsmodels package\n",
    "formula = \"Confirmed ~ C(State_UT)\"\n",
    "model = sm.formula.api.ols(formula,df_sub).fit()\n",
    "model.summary()"
   ]
  },
  {
   "cell_type": "code",
   "execution_count": 94,
   "metadata": {},
   "outputs": [
    {
     "name": "stdout",
     "output_type": "stream",
     "text": [
      "                   sum_sq      df          F    PR(>F)\n",
      "C(State_UT)  1.845065e+13     2.0  13.724765  0.000001\n",
      "Residual     1.079499e+15  1606.0        NaN       NaN\n"
     ]
    }
   ],
   "source": [
    "aov_table = sm.api.stats.anova_lm(model,typ=2)\n",
    "print(aov_table)"
   ]
  },
  {
   "cell_type": "code",
   "execution_count": 103,
   "metadata": {},
   "outputs": [
    {
     "name": "stdout",
     "output_type": "stream",
     "text": [
      "            Multiple Comparison of Means - Tukey HSD, FWER=0.05             \n",
      "============================================================================\n",
      "  group1       group2      meandiff   p-adj    lower        upper     reject\n",
      "----------------------------------------------------------------------------\n",
      "    Kerala    Tamil Nadu    6392.3471 0.991 -110561.2309  123345.9251  False\n",
      "    Kerala Uttar Pradesh -225129.3319   0.0 -341910.3265 -108348.3374   True\n",
      "Tamil Nadu Uttar Pradesh  -231521.679   0.0 -350286.5962 -112756.7619   True\n",
      "----------------------------------------------------------------------------\n"
     ]
    }
   ],
   "source": [
    "# Post Hoc Test\n",
    "# Tukey HSD Test\n",
    "mc = sm.stats.multicomp.MultiComparison(df_sub['Confirmed'],df_sub['State_UT'])\n",
    "results = mc.tukeyhsd()\n",
    "print(results)\n"
   ]
  },
  {
   "cell_type": "code",
   "execution_count": null,
   "metadata": {},
   "outputs": [],
   "source": [
    "#Two-way Anova test and tukey multicomparison"
   ]
  },
  {
   "cell_type": "code",
   "execution_count": 108,
   "metadata": {},
   "outputs": [
    {
     "data": {
      "text/html": [
       "<div>\n",
       "<style scoped>\n",
       "    .dataframe tbody tr th:only-of-type {\n",
       "        vertical-align: middle;\n",
       "    }\n",
       "\n",
       "    .dataframe tbody tr th {\n",
       "        vertical-align: top;\n",
       "    }\n",
       "\n",
       "    .dataframe thead th {\n",
       "        text-align: right;\n",
       "    }\n",
       "</style>\n",
       "<table border=\"1\" class=\"dataframe\">\n",
       "  <thead>\n",
       "    <tr style=\"text-align: right;\">\n",
       "      <th></th>\n",
       "      <th>Teaching_Method</th>\n",
       "      <th>Student_Background</th>\n",
       "      <th>Exam_Score</th>\n",
       "    </tr>\n",
       "  </thead>\n",
       "  <tbody>\n",
       "    <tr>\n",
       "      <th>0</th>\n",
       "      <td>A</td>\n",
       "      <td>X</td>\n",
       "      <td>79.967142</td>\n",
       "    </tr>\n",
       "    <tr>\n",
       "      <th>1</th>\n",
       "      <td>A</td>\n",
       "      <td>X</td>\n",
       "      <td>73.617357</td>\n",
       "    </tr>\n",
       "    <tr>\n",
       "      <th>2</th>\n",
       "      <td>A</td>\n",
       "      <td>X</td>\n",
       "      <td>81.476885</td>\n",
       "    </tr>\n",
       "    <tr>\n",
       "      <th>3</th>\n",
       "      <td>A</td>\n",
       "      <td>X</td>\n",
       "      <td>90.230299</td>\n",
       "    </tr>\n",
       "    <tr>\n",
       "      <th>4</th>\n",
       "      <td>A</td>\n",
       "      <td>X</td>\n",
       "      <td>72.658466</td>\n",
       "    </tr>\n",
       "  </tbody>\n",
       "</table>\n",
       "</div>"
      ],
      "text/plain": [
       "  Teaching_Method Student_Background  Exam_Score\n",
       "0               A                  X   79.967142\n",
       "1               A                  X   73.617357\n",
       "2               A                  X   81.476885\n",
       "3               A                  X   90.230299\n",
       "4               A                  X   72.658466"
      ]
     },
     "execution_count": 108,
     "metadata": {},
     "output_type": "execute_result"
    }
   ],
   "source": [
    "# Seed for reproducibility\n",
    "np.random.seed(42)\n",
    "\n",
    "# Sample sizes\n",
    "n_groups = 3  # Number of groups for factor A (Teaching Method)\n",
    "n_levels = 2  # Number of levels for factor B (Student Background)\n",
    "n_samples = 50  # Number of samples per group/level combination\n",
    "\n",
    "# Generating random data\n",
    "data = {\n",
    "    'Teaching_Method': np.repeat(['A', 'B', 'C'], n_samples * n_levels),\n",
    "    'Student_Background': np.tile(np.repeat(['X', 'Y'], n_samples), n_groups),\n",
    "    'Exam_Score': np.random.normal(75, 10, n_groups * n_levels * n_samples) + \n",
    "                  np.tile(np.repeat([0, 5, 10], n_samples * n_levels), 1)  # Adding some differences\n",
    "}\n",
    "\n",
    "df = pd.DataFrame(data)\n",
    "df.head()"
   ]
  },
  {
   "cell_type": "code",
   "execution_count": 117,
   "metadata": {},
   "outputs": [
    {
     "name": "stdout",
     "output_type": "stream",
     "text": [
      "                                                sum_sq     df          F   \n",
      "C(Teaching_Method)                         6841.435284    2.0  35.227712  \\\n",
      "C(Student_Background)                        31.458112    1.0   0.323966   \n",
      "C(Teaching_Method):C(Student_Background)    228.495800    2.0   1.176564   \n",
      "Residual                                  28548.291310  294.0        NaN   \n",
      "\n",
      "                                                PR(>F)  \n",
      "C(Teaching_Method)                        1.928982e-14  \n",
      "C(Student_Background)                     5.696683e-01  \n",
      "C(Teaching_Method):C(Student_Background)  3.097840e-01  \n",
      "Residual                                           NaN  \n"
     ]
    }
   ],
   "source": [
    "formula = 'Exam_Score ~ C(Teaching_Method) + C(Student_Background) + C(Teaching_Method):C(Student_Background)'\n",
    "model = sm.formula.api.ols(formula, data =df).fit()\n",
    "aov_table = sm.stats.api.anova_lm(model, typ=2)\n",
    "print(pd.DataFrame(aov_table))"
   ]
  },
  {
   "cell_type": "code",
   "execution_count": 118,
   "metadata": {},
   "outputs": [
    {
     "name": "stdout",
     "output_type": "stream",
     "text": [
      "Multiple Comparison of Means - Tukey HSD, FWER=0.05\n",
      "===================================================\n",
      "group1 group2 meandiff p-adj  lower   upper  reject\n",
      "---------------------------------------------------\n",
      "     A      B   6.2615    0.0 2.9807  9.5423   True\n",
      "     A      C  11.6874    0.0 8.4066 14.9683   True\n",
      "     B      C   5.4259 0.0004 2.1451  8.7067   True\n",
      "---------------------------------------------------\n"
     ]
    }
   ],
   "source": [
    "mc = sm.stats.multicomp.MultiComparison(df['Exam_Score'],df['Teaching_Method'])\n",
    "result = mc.tukeyhsd()\n",
    "print(result)"
   ]
  },
  {
   "cell_type": "code",
   "execution_count": 119,
   "metadata": {},
   "outputs": [
    {
     "name": "stdout",
     "output_type": "stream",
     "text": [
      "Multiple Comparison of Means - Tukey HSD, FWER=0.05\n",
      "==================================================\n",
      "group1 group2 meandiff p-adj   lower  upper reject\n",
      "--------------------------------------------------\n",
      "     X      Y   0.6476 0.6083 -1.8367 3.132  False\n",
      "--------------------------------------------------\n"
     ]
    }
   ],
   "source": [
    "mc = sm.stats.multicomp.MultiComparison(df['Exam_Score'],df['Student_Background'])\n",
    "result = mc.tukeyhsd()\n",
    "print(result)"
   ]
  },
  {
   "cell_type": "code",
   "execution_count": null,
   "metadata": {},
   "outputs": [],
   "source": [
    "#Validating the assumptions for Anova"
   ]
  },
  {
   "cell_type": "code",
   "execution_count": 127,
   "metadata": {},
   "outputs": [
    {
     "name": "stdout",
     "output_type": "stream",
     "text": [
      "0.9938966035842896 0.2688046097755432\n"
     ]
    },
    {
     "data": {
      "image/png": "[encoded data removed]",
      "text/plain": [
       "<Figure size 400x400 with 1 Axes>"
      ]
     },
     "metadata": {
      "image/png": {
       "height": 400,
       "width": 400
      }
     },
     "output_type": "display_data"
    }
   ],
   "source": [
    "# Check for Normality\n",
    "#1. Shapiro Wil Test \n",
    "w, pvalue = stats.shapiro(model.resid)\n",
    "print(w, pvalue)\n",
    "\n",
    "#Q-Q Plot for residuals\n",
    "res = model.resid\n",
    "fig = sm.api.qqplot(res, line='s')\n",
    "fig.set_size_inches(4,4)\n",
    "plt.show()"
   ]
  },
  {
   "cell_type": "code",
   "execution_count": null,
   "metadata": {},
   "outputs": [],
   "source": []
  }
 ],
 "metadata": {
  "kernelspec": {
   "display_name": "Python 3",
   "language": "python",
   "name": "python3"
  },
  "language_info": {
   "codemirror_mode": {
    "name": "ipython",
    "version": 3
   },
   "file_extension": ".py",
   "mimetype": "text/x-python",
   "name": "python",
   "nbconvert_exporter": "python",
   "pygments_lexer": "ipython3",
   "version": "3.8.10"
  },
  "orig_nbformat": 4,
  "vscode": {
   "interpreter": {
    "hash": "949777d72b0d2535278d3dc13498b2535136f6dfe0678499012e853ee9abcab1"
   }
  }
 },
 "nbformat": 4,
 "nbformat_minor": 2
}
