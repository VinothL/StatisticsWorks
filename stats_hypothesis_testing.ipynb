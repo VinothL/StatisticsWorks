{
 "cells": [
  {
   "cell_type": "code",
   "execution_count": 24,
   "metadata": {},
   "outputs": [],
   "source": [
    "#!pip3 install plotnine"
   ]
  },
  {
   "cell_type": "code",
   "execution_count": null,
   "metadata": {},
   "outputs": [],
   "source": [
    "\"\"\"\n",
    "The notebooks contains code for testing different tests based sample data\n",
    " 0. Basics - Central limit theorem\n",
    " 1. t-test\n",
    " 2. Proportion test\n",
    " 3. Anova \n",
    " 4. Chi-Square (Both Goodness of fit and Independence )\n",
    "\"\"\""
   ]
  },
  {
   "cell_type": "code",
   "execution_count": null,
   "metadata": {},
   "outputs": [],
   "source": [
    "\"\"\"\n",
    "Basics Statistics:\n",
    "1. Data types:\n",
    "    1. Categorical - Ordinal (Order Matters) and Nominal (Order doesn't matter)\n",
    "    2. Numerical - Continuous and Discrete\n",
    "\n",
    "2. Hypothesis testing terminologies:\n",
    "    1. p-value - likelihood of pattern under null hypothesis\n",
    "\n",
    "\"\"\""
   ]
  },
  {
   "cell_type": "code",
   "execution_count": null,
   "metadata": {},
   "outputs": [],
   "source": [
    "# student t-test\n",
    "# 1. one sample t - test => comparing the value with the population parameter\n",
    "# 2. two sample t - test => comparing if there is differnece between the samples"
   ]
  },
  {
   "cell_type": "code",
   "execution_count": 25,
   "metadata": {},
   "outputs": [],
   "source": [
    "import pandas as pd\n",
    "import numpy as np\n",
    "\n",
    "from scipy import stats\n",
    "\n",
    "import plotnine as p9"
   ]
  },
  {
   "cell_type": "code",
   "execution_count": 3,
   "metadata": {},
   "outputs": [
    {
     "name": "stdout",
     "output_type": "stream",
     "text": [
      "Sample df shape(1000, 2)\n"
     ]
    },
    {
     "data": {
      "text/html": [
       "<div>\n",
       "<style scoped>\n",
       "    .dataframe tbody tr th:only-of-type {\n",
       "        vertical-align: middle;\n",
       "    }\n",
       "\n",
       "    .dataframe tbody tr th {\n",
       "        vertical-align: top;\n",
       "    }\n",
       "\n",
       "    .dataframe thead th {\n",
       "        text-align: right;\n",
       "    }\n",
       "</style>\n",
       "<table border=\"1\" class=\"dataframe\">\n",
       "  <thead>\n",
       "    <tr style=\"text-align: right;\">\n",
       "      <th></th>\n",
       "      <th>Sample_A</th>\n",
       "      <th>Sample_B</th>\n",
       "    </tr>\n",
       "  </thead>\n",
       "  <tbody>\n",
       "    <tr>\n",
       "      <th>0</th>\n",
       "      <td>61</td>\n",
       "      <td>38</td>\n",
       "    </tr>\n",
       "    <tr>\n",
       "      <th>1</th>\n",
       "      <td>32</td>\n",
       "      <td>7</td>\n",
       "    </tr>\n",
       "    <tr>\n",
       "      <th>2</th>\n",
       "      <td>59</td>\n",
       "      <td>33</td>\n",
       "    </tr>\n",
       "    <tr>\n",
       "      <th>3</th>\n",
       "      <td>39</td>\n",
       "      <td>18</td>\n",
       "    </tr>\n",
       "    <tr>\n",
       "      <th>4</th>\n",
       "      <td>77</td>\n",
       "      <td>79</td>\n",
       "    </tr>\n",
       "  </tbody>\n",
       "</table>\n",
       "</div>"
      ],
      "text/plain": [
       "   Sample_A  Sample_B\n",
       "0        61        38\n",
       "1        32         7\n",
       "2        59        33\n",
       "3        39        18\n",
       "4        77        79"
      ]
     },
     "execution_count": 3,
     "metadata": {},
     "output_type": "execute_result"
    }
   ],
   "source": [
    "samplesDf = pd.DataFrame({\n",
    "    'Sample_A' : np.random.randint(0,100,size = 1000),\n",
    "    'Sample_B' : np.random.randint(0,100,size = 1000)\n",
    "})\n",
    "print('Sample df shape' + str(samplesDf.shape))\n",
    "samplesDf.head()"
   ]
  },
  {
   "cell_type": "code",
   "execution_count": 31,
   "metadata": {},
   "outputs": [
    {
     "name": "stdout",
     "output_type": "stream",
     "text": [
      "   observed_no    Sample  Value\n",
      "0            1  Sample_A     61\n",
      "1            2  Sample_A     32\n",
      "2            3  Sample_A     59\n",
      "3            4  Sample_A     39\n",
      "4            5  Sample_A     77\n"
     ]
    }
   ],
   "source": [
    "# Transform the dataframe from wide to long format\n",
    "df_long = samplesDf.reset_index().melt(id_vars=['index'], value_vars=['Sample_A', 'Sample_B'],\n",
    "                                var_name='Sample', value_name='Value')\n",
    "\n",
    "# Adjusting the output to add an observed_no column for each sample\n",
    "df_long['observed_no'] = df_long.groupby('Sample').cumcount() + 1\n",
    "df_long = df_long[['observed_no', 'Sample', 'Value']]\n",
    "samplesDf = df_long \n",
    "# Display the transformed dataframe\n",
    "print(df_long.head())"
   ]
  },
  {
   "cell_type": "code",
   "execution_count": 6,
   "metadata": {},
   "outputs": [],
   "source": [
    "#Generic testing parameters\n",
    "ALPHA = 0.05\n",
    "\n",
    "\n"
   ]
  },
  {
   "cell_type": "code",
   "execution_count": null,
   "metadata": {},
   "outputs": [],
   "source": [
    "#one-sample t-test Theory"
   ]
  },
  {
   "cell_type": "code",
   "execution_count": 36,
   "metadata": {},
   "outputs": [
    {
     "name": "stdout",
     "output_type": "stream",
     "text": [
      "Sample mean != Population Mean\n"
     ]
    }
   ],
   "source": [
    "#one-sample t-test\n",
    "Sample_A = samplesDf.loc[samplesDf.Sample == 'Sample_A','Value']\n",
    "t_result = stats.ttest_1samp(Sample_A,70)\n",
    "if t_result[1] < ALPHA:\n",
    "    print('Sample mean != Population Mean')\n",
    "else: \n",
    "    print('Not enough evidence to reject the null hypothesis')\n",
    "    print(t_result)\n"
   ]
  },
  {
   "cell_type": "code",
   "execution_count": null,
   "metadata": {},
   "outputs": [],
   "source": []
  },
  {
   "cell_type": "code",
   "execution_count": null,
   "metadata": {},
   "outputs": [],
   "source": [
    "#two-sample t-test independent -Theory"
   ]
  },
  {
   "cell_type": "code",
   "execution_count": 43,
   "metadata": {},
   "outputs": [
    {
     "name": "stdout",
     "output_type": "stream",
     "text": [
      "Not enough evidence to reject the null hypothesis\n",
      "Ttest_indResult(statistic=-0.5528762275630705, pvalue=0.580410016109019)\n"
     ]
    },
    {
     "data": {
      "image/png": "[encoded data removed]",
      "text/plain": [
       "<Figure size 400x200 with 1 Axes>"
      ]
     },
     "metadata": {
      "image/png": {
       "height": 200,
       "width": 400
      }
     },
     "output_type": "display_data"
    },
    {
     "name": "stdout",
     "output_type": "stream",
     "text": [
      "\n"
     ]
    }
   ],
   "source": [
    "#two-sample t-test independent\n",
    "Sample_A = samplesDf.loc[samplesDf.Sample == 'Sample_A','Value']\n",
    "Sample_B = samplesDf.loc[samplesDf.Sample == 'Sample_B','Value']\n",
    "t_result = stats.ttest_ind(Sample_A,Sample_B)\n",
    "if t_result[1] < ALPHA:\n",
    "    print('Sample mean != Population Mean')\n",
    "else:\n",
    "    print('Not enough evidence to reject the null hypothesis')\n",
    "    print(t_result)\n",
    "\n",
    "print(p9.ggplot(samplesDf) \n",
    "      + p9.aes(x='Value',fill='Sample')\n",
    "       + p9.geom_density(alpha = ALPHA) \n",
    "       + p9.theme(figure_size=(4,2))\n",
    "       )"
   ]
  },
  {
   "cell_type": "code",
   "execution_count": null,
   "metadata": {},
   "outputs": [],
   "source": [
    "# Tests for Categorical value - (Head/Tail, Success/Failure)\n",
    "# 1. ChiSquare Test - Goodness of fitness \n",
    "# 2. Fisher Extract - Checking if both the samples are from same population/distribution"
   ]
  },
  {
   "cell_type": "code",
   "execution_count": 51,
   "metadata": {},
   "outputs": [
    {
     "name": "stdout",
     "output_type": "stream",
     "text": [
      "The results from ChiSquare: \n",
      "Power_divergenceResult(statistic=1.156, pvalue=0.28229665258331127)\n",
      "We don't have enough data to prove the distribution\n"
     ]
    }
   ],
   "source": [
    "# 1. ChiSquare Test\n",
    "# Usecases: Checking if the coin is fair/not, Checking if the observed male/female ratio\n",
    "\n",
    "#Generating Coin flip data\n",
    "df = pd.DataFrame({\n",
    "    'FlipNo': list(np.arange(1000)),\n",
    "    'Result': ['Head' if np.random.rand(1) > 0.5 else 'Tail' for i in np.arange(1000)]\n",
    "})\n",
    "df.head()\n",
    "\n",
    "chi = stats.chisquare(df['Result'].value_counts())\n",
    "print('The results from ChiSquare: \\n' + str(chi))\n",
    "if chi[1] < ALPHA:\n",
    "    print(' The sample data is from different distribution')\n",
    "else:\n",
    "    print(\"No Statiscally provable difference\")"
   ]
  },
  {
   "cell_type": "code",
   "execution_count": null,
   "metadata": {},
   "outputs": [],
   "source": []
  },
  {
   "cell_type": "code",
   "execution_count": 54,
   "metadata": {},
   "outputs": [
    {
     "name": "stdout",
     "output_type": "stream",
     "text": [
      "SignificanceResult(statistic=0.9487676111336728, pvalue=0.7041718697571682)\n",
      "There is no statistical evidence to prove the distribution\n"
     ]
    }
   ],
   "source": [
    "# 2. Fisher Extact Test\n",
    "# To check if both samples are from same distribution or not\n",
    "#Generating Coin flip data\n",
    "df = pd.DataFrame({\n",
    "    'FlipNo': list(np.arange(1000)),\n",
    "    'Coin1': ['Head' if np.random.rand(1) > 0.5 else 'Tail' for i in np.arange(1000)],\n",
    "    'Coin2': ['Head' if np.random.rand(1) > 0.5 else 'Tail' for i in np.arange(1000)]\n",
    "})\n",
    "df.head()\n",
    "\n",
    "fisher = stats.fisher_exact(pd.crosstab(df['Coin1'],df['Coin2']))\n",
    "print(fisher)\n",
    "\n",
    "if fisher[1] < ALPHA:\n",
    "    print('There is statistical evidence to prove different distribution/source')\n",
    "else:\n",
    "    print('There is no statistical evidence to prove the distribution')"
   ]
  },
  {
   "cell_type": "code",
   "execution_count": null,
   "metadata": {},
   "outputs": [],
   "source": []
  }
 ],
 "metadata": {
  "kernelspec": {
   "display_name": "Python 3",
   "language": "python",
   "name": "python3"
  },
  "language_info": {
   "codemirror_mode": {
    "name": "ipython",
    "version": 3
   },
   "file_extension": ".py",
   "mimetype": "text/x-python",
   "name": "python",
   "nbconvert_exporter": "python",
   "pygments_lexer": "ipython3",
   "version": "3.8.10"
  },
  "orig_nbformat": 4,
  "vscode": {
   "interpreter": {
    "hash": "949777d72b0d2535278d3dc13498b2535136f6dfe0678499012e853ee9abcab1"
   }
  }
 },
 "nbformat": 4,
 "nbformat_minor": 2
}
